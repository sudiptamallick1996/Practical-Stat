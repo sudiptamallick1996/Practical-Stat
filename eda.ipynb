{
 "cells": [
  {
   "cell_type": "code",
   "execution_count": 29,
   "metadata": {},
   "outputs": [],
   "source": [
    "import pandas as pd\n",
    "import numpy as np\n",
    "from scipy.stats import trim_mean\n",
    "import wquantiles"
   ]
  },
  {
   "cell_type": "code",
   "execution_count": 2,
   "metadata": {},
   "outputs": [
    {
     "data": {
      "text/html": [
       "<div>\n",
       "<style scoped>\n",
       "    .dataframe tbody tr th:only-of-type {\n",
       "        vertical-align: middle;\n",
       "    }\n",
       "\n",
       "    .dataframe tbody tr th {\n",
       "        vertical-align: top;\n",
       "    }\n",
       "\n",
       "    .dataframe thead th {\n",
       "        text-align: right;\n",
       "    }\n",
       "</style>\n",
       "<table border=\"1\" class=\"dataframe\">\n",
       "  <thead>\n",
       "    <tr style=\"text-align: right;\">\n",
       "      <th></th>\n",
       "      <th>State</th>\n",
       "      <th>Population</th>\n",
       "      <th>Murder.Rate</th>\n",
       "      <th>Abbreviation</th>\n",
       "    </tr>\n",
       "  </thead>\n",
       "  <tbody>\n",
       "    <tr>\n",
       "      <th>0</th>\n",
       "      <td>Alabama</td>\n",
       "      <td>4779736</td>\n",
       "      <td>5.7</td>\n",
       "      <td>AL</td>\n",
       "    </tr>\n",
       "    <tr>\n",
       "      <th>1</th>\n",
       "      <td>Alaska</td>\n",
       "      <td>710231</td>\n",
       "      <td>5.6</td>\n",
       "      <td>AK</td>\n",
       "    </tr>\n",
       "    <tr>\n",
       "      <th>2</th>\n",
       "      <td>Arizona</td>\n",
       "      <td>6392017</td>\n",
       "      <td>4.7</td>\n",
       "      <td>AZ</td>\n",
       "    </tr>\n",
       "    <tr>\n",
       "      <th>3</th>\n",
       "      <td>Arkansas</td>\n",
       "      <td>2915918</td>\n",
       "      <td>5.6</td>\n",
       "      <td>AR</td>\n",
       "    </tr>\n",
       "    <tr>\n",
       "      <th>4</th>\n",
       "      <td>California</td>\n",
       "      <td>37253956</td>\n",
       "      <td>4.4</td>\n",
       "      <td>CA</td>\n",
       "    </tr>\n",
       "  </tbody>\n",
       "</table>\n",
       "</div>"
      ],
      "text/plain": [
       "        State  Population  Murder.Rate Abbreviation\n",
       "0     Alabama     4779736          5.7           AL\n",
       "1      Alaska      710231          5.6           AK\n",
       "2     Arizona     6392017          4.7           AZ\n",
       "3    Arkansas     2915918          5.6           AR\n",
       "4  California    37253956          4.4           CA"
      ]
     },
     "execution_count": 2,
     "metadata": {},
     "output_type": "execute_result"
    }
   ],
   "source": [
    "df = pd.read_csv('datasets/state.csv')\n",
    "df.head()"
   ]
  },
  {
   "cell_type": "code",
   "execution_count": 3,
   "metadata": {},
   "outputs": [
    {
     "name": "stdout",
     "output_type": "stream",
     "text": [
      "6162876.3\n"
     ]
    },
    {
     "data": {
      "text/plain": [
       "6162876.3"
      ]
     },
     "execution_count": 3,
     "metadata": {},
     "output_type": "execute_result"
    }
   ],
   "source": [
    "s = 0\n",
    "for x in df['Population']:\n",
    "    s += x\n",
    "print(s/len(df['Population']))\n",
    "# -----------------------------------\n",
    "df['Population'].mean()"
   ]
  },
  {
   "cell_type": "code",
   "execution_count": 4,
   "metadata": {},
   "outputs": [
    {
     "data": {
      "text/plain": [
       "array([ 4779736,   710231,  6392017,  2915918, 37253956,  5029196,\n",
       "        3574097,   897934, 18801310,  9687653,  1360301,  1567582,\n",
       "       12830632,  6483802,  3046355,  2853118,  4339367,  4533372,\n",
       "        1328361,  5773552,  6547629,  9883640,  5303925,  2967297,\n",
       "        5988927,   989415,  1826341,  2700551,  1316470,  8791894,\n",
       "        2059179, 19378102,  9535483,   672591, 11536504,  3751351,\n",
       "        3831074, 12702379,  1052567,  4625364,   814180,  6346105,\n",
       "       25145561,  2763885,   625741,  8001024,  6724540,  1852994,\n",
       "        5686986,   563626])"
      ]
     },
     "execution_count": 4,
     "metadata": {},
     "output_type": "execute_result"
    }
   ],
   "source": [
    "np.array(df['Population'])"
   ]
  },
  {
   "cell_type": "code",
   "execution_count": 5,
   "metadata": {},
   "outputs": [
    {
     "name": "stdout",
     "output_type": "stream",
     "text": [
      "4783697.125\n"
     ]
    },
    {
     "data": {
      "text/plain": [
       "4783697.125"
      ]
     },
     "execution_count": 5,
     "metadata": {},
     "output_type": "execute_result"
    }
   ],
   "source": [
    "# Trimmed Mean (dropping a fixed number of sorted values at each end and then taking an average of tbe remaining values)\n",
    "def Trim_Mean(series_x, proportion):\n",
    "    l = len(series_x)\n",
    "    p = int(l * proportion)\n",
    "    start = p\n",
    "    end = l - p\n",
    "    new_list = list(sorted(df['Population']))[start:end]\n",
    "    s = 0\n",
    "    for x in new_list:\n",
    "        s += x\n",
    "    return s/len(new_list)\n",
    "\n",
    "print(Trim_Mean(df['Population'], proportion = 0.1))\n",
    "# --------------------------------------------------------\n",
    "trim_mean(df['Population'], proportiontocut = 0.1)"
   ]
  },
  {
   "cell_type": "code",
   "execution_count": 8,
   "metadata": {},
   "outputs": [
    {
     "name": "stdout",
     "output_type": "stream",
     "text": [
      "4.445833981123394\n"
     ]
    },
    {
     "data": {
      "text/plain": [
       "4.445833981123393"
      ]
     },
     "execution_count": 8,
     "metadata": {},
     "output_type": "execute_result"
    }
   ],
   "source": [
    "# Multiply each of the data point by some weights and the divide it by sum of the weights\n",
    "def weighted_mean(series_x, weight_series):\n",
    "    l = len(series_x)\n",
    "    s = 0\n",
    "    w = 0\n",
    "    for i in range(l):\n",
    "        s += series_x[i]*weight_series[i]\n",
    "        w += weight_series[i]\n",
    "    return s/w\n",
    "\n",
    "print(weighted_mean(df['Murder.Rate'], df['Population']))\n",
    "# --------------------------------------------------------\n",
    "np.average(df['Murder.Rate'], weights = df['Population'])"
   ]
  },
  {
   "cell_type": "code",
   "execution_count": 27,
   "metadata": {},
   "outputs": [
    {
     "name": "stdout",
     "output_type": "stream",
     "text": [
      "4.0\n"
     ]
    },
    {
     "data": {
      "text/plain": [
       "4.0"
      ]
     },
     "execution_count": 27,
     "metadata": {},
     "output_type": "execute_result"
    }
   ],
   "source": [
    "def median_(series_x):\n",
    "    sorted_l = sorted(list(series_x))\n",
    "    n = len(sorted_l)\n",
    "    if n%2 == 0:\n",
    "        return float((sorted_l[n//2] + sorted_l[n//2 - 1])/2)\n",
    "    else:\n",
    "        return float(sorted_l[(n - 1)//2])\n",
    "\n",
    "print(median_(df['Murder.Rate']))\n",
    "# --------------------------------------------------------\n",
    "np.median(df['Murder.Rate'])"
   ]
  },
  {
   "cell_type": "code",
   "execution_count": 50,
   "metadata": {},
   "outputs": [
    {
     "name": "stdout",
     "output_type": "stream",
     "text": [
      "1.0\n",
      "21 0\n",
      "5.4\n"
     ]
    },
    {
     "data": {
      "text/plain": [
       "4.4"
      ]
     },
     "execution_count": 50,
     "metadata": {},
     "output_type": "execute_result"
    }
   ],
   "source": [
    "def weighted_median(series_x, weights):\n",
    "    weights = np.array(weights)\n",
    "    weights = weights/sum(weights)\n",
    "    print(sum(weights))\n",
    "\n",
    "    temp_df = pd.DataFrame()\n",
    "    temp_df['series'] = list(series_x)\n",
    "    temp_df['weights'] = list(weights)\n",
    "    temp_df = temp_df.sort_values(by = ['series'])\n",
    "    thresh = 0\n",
    "    n = len(temp_df)\n",
    "    for i in range(n):\n",
    "        thresh += temp_df['series'][i] * temp_df['weights'][i]\n",
    "    thresh /= 2\n",
    "\n",
    "    s = 0\n",
    "    flg = 0\n",
    "\n",
    "    for k in range(n):\n",
    "        s += temp_df['series'][k] * temp_df['weights'][k]\n",
    "        if s == thresh:\n",
    "            flg = 1\n",
    "            break\n",
    "        if s > thresh:\n",
    "            break\n",
    "    \n",
    "    print(k, flg)\n",
    "    if flg == 1:\n",
    "        return (temp_df['series'][k+1] + temp_df['series'][k])/2\n",
    "    else:\n",
    "        return temp_df['series'][k]\n",
    "\n",
    "print(weighted_median(df['Murder.Rate'], df['Population']))\n",
    "# --------------------------------------------------------\n",
    "wquantiles.median(df['Murder.Rate'], weights = df['Population'])"
   ]
  },
  {
   "cell_type": "code",
   "execution_count": null,
   "metadata": {},
   "outputs": [],
   "source": []
  }
 ],
 "metadata": {
  "kernelspec": {
   "display_name": "Python 3",
   "language": "python",
   "name": "python3"
  },
  "language_info": {
   "codemirror_mode": {
    "name": "ipython",
    "version": 3
   },
   "file_extension": ".py",
   "mimetype": "text/x-python",
   "name": "python",
   "nbconvert_exporter": "python",
   "pygments_lexer": "ipython3",
   "version": "3.8.10"
  },
  "orig_nbformat": 4
 },
 "nbformat": 4,
 "nbformat_minor": 2
}
